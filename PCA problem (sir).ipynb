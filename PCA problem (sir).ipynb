{
 "cells": [
  {
   "cell_type": "code",
   "execution_count": 1,
   "id": "88f90205",
   "metadata": {},
   "outputs": [],
   "source": [
    "import pandas as pd"
   ]
  },
  {
   "cell_type": "code",
   "execution_count": 3,
   "id": "f568bd97",
   "metadata": {},
   "outputs": [],
   "source": [
    "df=pd.read_csv('IRIS (1) 2.csv')"
   ]
  },
  {
   "cell_type": "code",
   "execution_count": 4,
   "id": "3a32ea5d",
   "metadata": {},
   "outputs": [
    {
     "data": {
      "text/html": [
       "<div>\n",
       "<style scoped>\n",
       "    .dataframe tbody tr th:only-of-type {\n",
       "        vertical-align: middle;\n",
       "    }\n",
       "\n",
       "    .dataframe tbody tr th {\n",
       "        vertical-align: top;\n",
       "    }\n",
       "\n",
       "    .dataframe thead th {\n",
       "        text-align: right;\n",
       "    }\n",
       "</style>\n",
       "<table border=\"1\" class=\"dataframe\">\n",
       "  <thead>\n",
       "    <tr style=\"text-align: right;\">\n",
       "      <th></th>\n",
       "      <th>sepal_length</th>\n",
       "      <th>sepal_width</th>\n",
       "      <th>petal_length</th>\n",
       "      <th>petal_width</th>\n",
       "      <th>species</th>\n",
       "    </tr>\n",
       "  </thead>\n",
       "  <tbody>\n",
       "    <tr>\n",
       "      <th>0</th>\n",
       "      <td>5.1</td>\n",
       "      <td>3.5</td>\n",
       "      <td>1.4</td>\n",
       "      <td>0.2</td>\n",
       "      <td>Iris-setosa</td>\n",
       "    </tr>\n",
       "    <tr>\n",
       "      <th>1</th>\n",
       "      <td>4.9</td>\n",
       "      <td>3.0</td>\n",
       "      <td>1.4</td>\n",
       "      <td>0.2</td>\n",
       "      <td>Iris-setosa</td>\n",
       "    </tr>\n",
       "    <tr>\n",
       "      <th>2</th>\n",
       "      <td>4.7</td>\n",
       "      <td>3.2</td>\n",
       "      <td>1.3</td>\n",
       "      <td>0.2</td>\n",
       "      <td>Iris-setosa</td>\n",
       "    </tr>\n",
       "    <tr>\n",
       "      <th>3</th>\n",
       "      <td>4.6</td>\n",
       "      <td>3.1</td>\n",
       "      <td>1.5</td>\n",
       "      <td>0.2</td>\n",
       "      <td>Iris-setosa</td>\n",
       "    </tr>\n",
       "    <tr>\n",
       "      <th>4</th>\n",
       "      <td>5.0</td>\n",
       "      <td>3.6</td>\n",
       "      <td>1.4</td>\n",
       "      <td>0.2</td>\n",
       "      <td>Iris-setosa</td>\n",
       "    </tr>\n",
       "    <tr>\n",
       "      <th>...</th>\n",
       "      <td>...</td>\n",
       "      <td>...</td>\n",
       "      <td>...</td>\n",
       "      <td>...</td>\n",
       "      <td>...</td>\n",
       "    </tr>\n",
       "    <tr>\n",
       "      <th>145</th>\n",
       "      <td>6.7</td>\n",
       "      <td>3.0</td>\n",
       "      <td>5.2</td>\n",
       "      <td>2.3</td>\n",
       "      <td>Iris-virginica</td>\n",
       "    </tr>\n",
       "    <tr>\n",
       "      <th>146</th>\n",
       "      <td>6.3</td>\n",
       "      <td>2.5</td>\n",
       "      <td>5.0</td>\n",
       "      <td>1.9</td>\n",
       "      <td>Iris-virginica</td>\n",
       "    </tr>\n",
       "    <tr>\n",
       "      <th>147</th>\n",
       "      <td>6.5</td>\n",
       "      <td>3.0</td>\n",
       "      <td>5.2</td>\n",
       "      <td>2.0</td>\n",
       "      <td>Iris-virginica</td>\n",
       "    </tr>\n",
       "    <tr>\n",
       "      <th>148</th>\n",
       "      <td>6.2</td>\n",
       "      <td>3.4</td>\n",
       "      <td>5.4</td>\n",
       "      <td>2.3</td>\n",
       "      <td>Iris-virginica</td>\n",
       "    </tr>\n",
       "    <tr>\n",
       "      <th>149</th>\n",
       "      <td>5.9</td>\n",
       "      <td>3.0</td>\n",
       "      <td>5.1</td>\n",
       "      <td>1.8</td>\n",
       "      <td>Iris-virginica</td>\n",
       "    </tr>\n",
       "  </tbody>\n",
       "</table>\n",
       "<p>150 rows × 5 columns</p>\n",
       "</div>"
      ],
      "text/plain": [
       "     sepal_length  sepal_width  petal_length  petal_width         species\n",
       "0             5.1          3.5           1.4          0.2     Iris-setosa\n",
       "1             4.9          3.0           1.4          0.2     Iris-setosa\n",
       "2             4.7          3.2           1.3          0.2     Iris-setosa\n",
       "3             4.6          3.1           1.5          0.2     Iris-setosa\n",
       "4             5.0          3.6           1.4          0.2     Iris-setosa\n",
       "..            ...          ...           ...          ...             ...\n",
       "145           6.7          3.0           5.2          2.3  Iris-virginica\n",
       "146           6.3          2.5           5.0          1.9  Iris-virginica\n",
       "147           6.5          3.0           5.2          2.0  Iris-virginica\n",
       "148           6.2          3.4           5.4          2.3  Iris-virginica\n",
       "149           5.9          3.0           5.1          1.8  Iris-virginica\n",
       "\n",
       "[150 rows x 5 columns]"
      ]
     },
     "execution_count": 4,
     "metadata": {},
     "output_type": "execute_result"
    }
   ],
   "source": [
    "df"
   ]
  },
  {
   "cell_type": "code",
   "execution_count": 5,
   "id": "3b9e7de6",
   "metadata": {},
   "outputs": [
    {
     "data": {
      "text/plain": [
       "(150, 5)"
      ]
     },
     "execution_count": 5,
     "metadata": {},
     "output_type": "execute_result"
    }
   ],
   "source": [
    "df.shape"
   ]
  },
  {
   "cell_type": "code",
   "execution_count": 7,
   "id": "c9ccb573",
   "metadata": {},
   "outputs": [],
   "source": [
    "x=df.drop(['species'],axis=1)\n",
    "y=df.iloc[:,-1]"
   ]
  },
  {
   "cell_type": "code",
   "execution_count": 8,
   "id": "dd1649f8",
   "metadata": {},
   "outputs": [
    {
     "data": {
      "text/html": [
       "<div>\n",
       "<style scoped>\n",
       "    .dataframe tbody tr th:only-of-type {\n",
       "        vertical-align: middle;\n",
       "    }\n",
       "\n",
       "    .dataframe tbody tr th {\n",
       "        vertical-align: top;\n",
       "    }\n",
       "\n",
       "    .dataframe thead th {\n",
       "        text-align: right;\n",
       "    }\n",
       "</style>\n",
       "<table border=\"1\" class=\"dataframe\">\n",
       "  <thead>\n",
       "    <tr style=\"text-align: right;\">\n",
       "      <th></th>\n",
       "      <th>sepal_length</th>\n",
       "      <th>sepal_width</th>\n",
       "      <th>petal_length</th>\n",
       "      <th>petal_width</th>\n",
       "    </tr>\n",
       "  </thead>\n",
       "  <tbody>\n",
       "    <tr>\n",
       "      <th>0</th>\n",
       "      <td>5.1</td>\n",
       "      <td>3.5</td>\n",
       "      <td>1.4</td>\n",
       "      <td>0.2</td>\n",
       "    </tr>\n",
       "    <tr>\n",
       "      <th>1</th>\n",
       "      <td>4.9</td>\n",
       "      <td>3.0</td>\n",
       "      <td>1.4</td>\n",
       "      <td>0.2</td>\n",
       "    </tr>\n",
       "    <tr>\n",
       "      <th>2</th>\n",
       "      <td>4.7</td>\n",
       "      <td>3.2</td>\n",
       "      <td>1.3</td>\n",
       "      <td>0.2</td>\n",
       "    </tr>\n",
       "    <tr>\n",
       "      <th>3</th>\n",
       "      <td>4.6</td>\n",
       "      <td>3.1</td>\n",
       "      <td>1.5</td>\n",
       "      <td>0.2</td>\n",
       "    </tr>\n",
       "    <tr>\n",
       "      <th>4</th>\n",
       "      <td>5.0</td>\n",
       "      <td>3.6</td>\n",
       "      <td>1.4</td>\n",
       "      <td>0.2</td>\n",
       "    </tr>\n",
       "    <tr>\n",
       "      <th>...</th>\n",
       "      <td>...</td>\n",
       "      <td>...</td>\n",
       "      <td>...</td>\n",
       "      <td>...</td>\n",
       "    </tr>\n",
       "    <tr>\n",
       "      <th>145</th>\n",
       "      <td>6.7</td>\n",
       "      <td>3.0</td>\n",
       "      <td>5.2</td>\n",
       "      <td>2.3</td>\n",
       "    </tr>\n",
       "    <tr>\n",
       "      <th>146</th>\n",
       "      <td>6.3</td>\n",
       "      <td>2.5</td>\n",
       "      <td>5.0</td>\n",
       "      <td>1.9</td>\n",
       "    </tr>\n",
       "    <tr>\n",
       "      <th>147</th>\n",
       "      <td>6.5</td>\n",
       "      <td>3.0</td>\n",
       "      <td>5.2</td>\n",
       "      <td>2.0</td>\n",
       "    </tr>\n",
       "    <tr>\n",
       "      <th>148</th>\n",
       "      <td>6.2</td>\n",
       "      <td>3.4</td>\n",
       "      <td>5.4</td>\n",
       "      <td>2.3</td>\n",
       "    </tr>\n",
       "    <tr>\n",
       "      <th>149</th>\n",
       "      <td>5.9</td>\n",
       "      <td>3.0</td>\n",
       "      <td>5.1</td>\n",
       "      <td>1.8</td>\n",
       "    </tr>\n",
       "  </tbody>\n",
       "</table>\n",
       "<p>150 rows × 4 columns</p>\n",
       "</div>"
      ],
      "text/plain": [
       "     sepal_length  sepal_width  petal_length  petal_width\n",
       "0             5.1          3.5           1.4          0.2\n",
       "1             4.9          3.0           1.4          0.2\n",
       "2             4.7          3.2           1.3          0.2\n",
       "3             4.6          3.1           1.5          0.2\n",
       "4             5.0          3.6           1.4          0.2\n",
       "..            ...          ...           ...          ...\n",
       "145           6.7          3.0           5.2          2.3\n",
       "146           6.3          2.5           5.0          1.9\n",
       "147           6.5          3.0           5.2          2.0\n",
       "148           6.2          3.4           5.4          2.3\n",
       "149           5.9          3.0           5.1          1.8\n",
       "\n",
       "[150 rows x 4 columns]"
      ]
     },
     "execution_count": 8,
     "metadata": {},
     "output_type": "execute_result"
    }
   ],
   "source": [
    "x"
   ]
  },
  {
   "cell_type": "code",
   "execution_count": 9,
   "id": "e7dd6394",
   "metadata": {},
   "outputs": [
    {
     "data": {
      "text/plain": [
       "0         Iris-setosa\n",
       "1         Iris-setosa\n",
       "2         Iris-setosa\n",
       "3         Iris-setosa\n",
       "4         Iris-setosa\n",
       "            ...      \n",
       "145    Iris-virginica\n",
       "146    Iris-virginica\n",
       "147    Iris-virginica\n",
       "148    Iris-virginica\n",
       "149    Iris-virginica\n",
       "Name: species, Length: 150, dtype: object"
      ]
     },
     "execution_count": 9,
     "metadata": {},
     "output_type": "execute_result"
    }
   ],
   "source": [
    "y"
   ]
  },
  {
   "cell_type": "code",
   "execution_count": 10,
   "id": "aeaa5162",
   "metadata": {},
   "outputs": [],
   "source": [
    "from sklearn.model_selection import train_test_split\n",
    "x_train,x_test,y_train,y_test=train_test_split(x,y,test_size=0.2,random_state=0)"
   ]
  },
  {
   "cell_type": "code",
   "execution_count": 14,
   "id": "fb2dd535",
   "metadata": {},
   "outputs": [],
   "source": [
    "from sklearn.preprocessing import StandardScaler\n",
    "sc=StandardScaler()\n",
    "x_train=sc.fit_transform(x_train)\n",
    "x_test=sc.fit_transform(x_test)"
   ]
  },
  {
   "cell_type": "code",
   "execution_count": 15,
   "id": "2177c8cd",
   "metadata": {},
   "outputs": [],
   "source": [
    "from sklearn.decomposition import PCA\n",
    "pca=PCA(n_components=2)\n",
    "x_train=pca.fit_transform(x_train)\n",
    "x_test=pca.fit_transform(x_test)"
   ]
  },
  {
   "cell_type": "code",
   "execution_count": 16,
   "id": "dc80e7e4",
   "metadata": {},
   "outputs": [
    {
     "data": {
      "text/plain": [
       "array([[ 1.27228206e+00,  3.57878727e-01],\n",
       "       [ 1.52231770e-01, -2.99835283e-01],\n",
       "       [-2.18764183e+00,  6.17154256e-01],\n",
       "       [ 9.41913396e-01,  1.21810481e-02],\n",
       "       [ 1.76227837e+00, -2.71066387e-01],\n",
       "       [-8.16806401e-02, -1.04319475e+00],\n",
       "       [-1.89794863e+00,  1.48464927e+00],\n",
       "       [ 9.59395493e-01, -6.91087802e-01],\n",
       "       [ 3.65661204e-01, -9.13013087e-02],\n",
       "       [ 2.31845912e-01, -1.01891237e+00],\n",
       "       [ 1.79730127e+00,  3.25092688e-01],\n",
       "       [-2.40350676e+00, -2.44874760e-01],\n",
       "       [ 1.82199968e+00,  5.93295049e-01],\n",
       "       [-1.98427118e+00,  5.55515137e-01],\n",
       "       [-2.17073306e+00,  1.13527621e+00],\n",
       "       [-2.55598076e-01, -2.67039928e+00],\n",
       "       [ 1.38862320e+00,  1.82768524e-01],\n",
       "       [ 1.93409268e+00,  9.57133382e-01],\n",
       "       [ 1.12243099e+00, -1.78242941e+00],\n",
       "       [ 1.88169499e+00, -8.17365689e-01],\n",
       "       [ 5.43123767e-02, -1.32586239e+00],\n",
       "       [ 2.70365641e+00,  7.16489102e-01],\n",
       "       [ 6.91516012e-01,  7.35561284e-01],\n",
       "       [ 1.30048660e-02, -1.58537102e+00],\n",
       "       [ 1.22853905e+00, -5.55124947e-01],\n",
       "       [ 1.01881714e+00, -3.53542050e-01],\n",
       "       [ 2.57616370e-01, -1.58420817e+00],\n",
       "       [ 1.44310720e+00, -9.83382473e-01],\n",
       "       [ 1.03458720e+00,  8.01371405e-01],\n",
       "       [ 1.43772035e+00,  1.92357562e-01],\n",
       "       [ 3.84673096e-01,  8.25825403e-01],\n",
       "       [-2.18860624e+00, -4.18642000e-01],\n",
       "       [ 1.05608476e+00, -7.58640575e-01],\n",
       "       [ 1.92641524e-01, -8.79416243e-01],\n",
       "       [-1.12363985e-01, -4.47930988e-01],\n",
       "       [ 1.72424265e-01, -1.35645812e+00],\n",
       "       [ 5.48040969e-01, -1.10259170e-02],\n",
       "       [ 1.88178641e+00,  9.13005688e-01],\n",
       "       [-2.23313082e+00,  1.09330082e+00],\n",
       "       [-2.68474557e+00, -8.53308800e-01],\n",
       "       [ 1.49617758e+00, -5.05892942e-01],\n",
       "       [ 1.93808918e-02, -1.91650085e-01],\n",
       "       [-1.94319667e+00,  4.84914749e-01],\n",
       "       [-2.21348689e+00,  2.79173351e+00],\n",
       "       [ 1.16566733e+00,  5.48671737e-01],\n",
       "       [-2.34625489e+00, -5.03040429e-01],\n",
       "       [ 8.82824123e-01, -7.08744182e-02],\n",
       "       [-5.53354567e-01, -1.53976821e+00],\n",
       "       [-2.46710989e+00,  1.53234687e-01],\n",
       "       [ 1.08296089e+00, -1.70071690e+00],\n",
       "       [ 2.21566386e+00,  1.82005771e+00],\n",
       "       [ 1.47152532e-01, -4.03269675e-01],\n",
       "       [-2.27419738e+00, -6.42088899e-01],\n",
       "       [ 2.11590706e+00,  4.52809468e-01],\n",
       "       [ 1.96517506e+00,  8.13066565e-01],\n",
       "       [ 1.78249563e+00,  2.05975489e-01],\n",
       "       [ 1.68845011e+00, -2.76532388e-01],\n",
       "       [-2.37901660e+00,  1.22688329e+00],\n",
       "       [-2.35043637e+00,  2.32614770e-01],\n",
       "       [ 1.29698047e+00,  6.26081088e-01],\n",
       "       [ 1.63877963e+00,  9.35269379e-01],\n",
       "       [-1.96898362e+00, -2.27712985e+00],\n",
       "       [ 1.32194459e+00,  9.52067070e-01],\n",
       "       [-2.13797135e+00, -5.94647511e-01],\n",
       "       [ 1.14254888e+00, -1.22976880e+00],\n",
       "       [ 1.77290253e+00,  5.83706011e-01],\n",
       "       [-2.59070005e+00, -3.70800923e-01],\n",
       "       [-2.39923386e+00,  7.49841417e-01],\n",
       "       [ 1.77631039e+00,  4.67007198e-01],\n",
       "       [-2.20906445e+00,  5.80197215e-01],\n",
       "       [-2.48281329e+00, -8.04972103e-01],\n",
       "       [-2.06525704e+00,  1.58127470e+00],\n",
       "       [ 2.80311020e-01, -1.79062930e+00],\n",
       "       [ 1.96848355e+00,  7.71986487e-01],\n",
       "       [ 2.65786776e+00,  6.65819985e-01],\n",
       "       [-2.28289272e+00,  5.74731214e-01],\n",
       "       [-2.23288987e+00, -3.82580267e-01],\n",
       "       [-2.16655158e+00,  3.99621011e-01],\n",
       "       [ 2.99655286e-01, -6.19012302e-01],\n",
       "       [ 7.94323529e-01,  1.97955712e-01],\n",
       "       [-2.24916660e+00, -1.19396252e-01],\n",
       "       [-1.85496180e+00,  1.58300998e-01],\n",
       "       [ 6.16789994e-01, -1.08994308e-01],\n",
       "       [-1.86124640e+00,  4.94951442e-01],\n",
       "       [ 3.18225493e+00, -1.48272024e-01],\n",
       "       [-5.99475599e-01, -1.84492762e+00],\n",
       "       [ 2.27397951e+00,  2.52206956e+00],\n",
       "       [ 8.02777914e-01,  4.57016689e-01],\n",
       "       [-2.58513035e+00,  1.91420180e+00],\n",
       "       [ 8.46662508e-01, -3.02419937e-02],\n",
       "       [-2.18153152e+00,  1.95309157e+00],\n",
       "       [ 2.78717714e+00,  2.68605846e-01],\n",
       "       [-2.33804146e+00,  1.23190164e+00],\n",
       "       [-2.30494738e+00, -2.43531797e-01],\n",
       "       [ 2.32903683e+00,  1.34527758e-01],\n",
       "       [-2.23740372e+00,  9.85846464e-02],\n",
       "       [ 1.52387687e+00,  1.00040377e+00],\n",
       "       [ 1.68242783e-01, -6.20802919e-01],\n",
       "       [ 1.45049409e-01, -8.02274431e-01],\n",
       "       [-1.42474004e-01, -1.07405803e+00],\n",
       "       [ 1.52177374e+00,  6.01399011e-01],\n",
       "       [ 1.78400066e+00,  2.92706339e-01],\n",
       "       [ 1.11494102e+00, -1.00569413e+00],\n",
       "       [ 1.27532483e+00,  2.59015027e-01],\n",
       "       [-2.00986734e+00, -5.51776815e-01],\n",
       "       [-9.36765222e-02, -1.59128467e+00],\n",
       "       [ 1.93529805e+00,  5.17048547e-01],\n",
       "       [ 1.05608476e+00, -7.58640575e-01],\n",
       "       [-2.19609621e+00,  3.58093278e-01],\n",
       "       [ 8.40144896e-01, -2.37005702e-02],\n",
       "       [-2.04173388e-03, -2.28607127e-01],\n",
       "       [ 6.76377991e-01,  3.61953799e-01],\n",
       "       [ 9.10905621e-01, -1.45303558e+00],\n",
       "       [-2.06615479e+00,  7.42185110e-01],\n",
       "       [-2.21026982e+00,  1.02028205e+00],\n",
       "       [-2.23288987e+00, -3.82580267e-01],\n",
       "       [ 1.35062418e+00, -1.17820187e-01],\n",
       "       [ 6.30991357e-02, -8.12311123e-01],\n",
       "       [ 2.39539989e+00,  2.45039375e+00],\n",
       "       [-2.43305139e+00, -2.86402494e-01]])"
      ]
     },
     "execution_count": 16,
     "metadata": {},
     "output_type": "execute_result"
    }
   ],
   "source": [
    "x_train"
   ]
  },
  {
   "cell_type": "code",
   "execution_count": 19,
   "id": "35b5b071",
   "metadata": {},
   "outputs": [
    {
     "data": {
      "text/plain": [
       "array([0.76134513, 0.17546402])"
      ]
     },
     "execution_count": 19,
     "metadata": {},
     "output_type": "execute_result"
    }
   ],
   "source": [
    "pca.explained_variance_ratio_  # (in percentage)"
   ]
  },
  {
   "cell_type": "code",
   "execution_count": 23,
   "id": "63b2cc35",
   "metadata": {},
   "outputs": [],
   "source": [
    "from sklearn.ensemble import RandomForestClassifier\n",
    "model=RandomForestClassifier()\n",
    "model.fit(x_train,y_train)\n",
    "y_pred=model.predict(x_test)"
   ]
  },
  {
   "cell_type": "code",
   "execution_count": 25,
   "id": "d672e39b",
   "metadata": {},
   "outputs": [
    {
     "data": {
      "text/plain": [
       "0.3"
      ]
     },
     "execution_count": 25,
     "metadata": {},
     "output_type": "execute_result"
    }
   ],
   "source": [
    "from sklearn.metrics import accuracy_score\n",
    "accuracy_score(y_test,y_pred)"
   ]
  },
  {
   "cell_type": "code",
   "execution_count": 26,
   "id": "8444cdba",
   "metadata": {},
   "outputs": [
    {
     "name": "stdout",
     "output_type": "stream",
     "text": [
      "enter SepalLengthCm 45\n",
      "enter Sepalwidth 7\n",
      "enter PetalLengthCm 2\n",
      "enter Petalwidth 5\n"
     ]
    }
   ],
   "source": [
    "SepalLengthCm=float(input('enter SepalLengthCm '))\n",
    "SepalWidthCm=float(input('enter Sepalwidth '))\n",
    "PetalLengthCm=float(input('enter PetalLengthCm '))\n",
    "PetalWidthCm=float(input('enter Petalwidth '))"
   ]
  },
  {
   "cell_type": "code",
   "execution_count": 27,
   "id": "9b8d8d5b",
   "metadata": {},
   "outputs": [],
   "source": [
    "pca_app=pca.transform([[SepalLengthCm,SepalWidthCm,PetalLengthCm,PetalWidthCm]])"
   ]
  },
  {
   "cell_type": "code",
   "execution_count": 28,
   "id": "a19596ca",
   "metadata": {},
   "outputs": [
    {
     "data": {
      "text/plain": [
       "array(['Iris-setosa'], dtype=object)"
      ]
     },
     "execution_count": 28,
     "metadata": {},
     "output_type": "execute_result"
    }
   ],
   "source": [
    "model.predict(pca_app)"
   ]
  },
  {
   "cell_type": "code",
   "execution_count": null,
   "id": "0ccf35bd",
   "metadata": {},
   "outputs": [],
   "source": []
  }
 ],
 "metadata": {
  "kernelspec": {
   "display_name": "Python 3 (ipykernel)",
   "language": "python",
   "name": "python3"
  },
  "language_info": {
   "codemirror_mode": {
    "name": "ipython",
    "version": 3
   },
   "file_extension": ".py",
   "mimetype": "text/x-python",
   "name": "python",
   "nbconvert_exporter": "python",
   "pygments_lexer": "ipython3",
   "version": "3.11.5"
  }
 },
 "nbformat": 4,
 "nbformat_minor": 5
}
